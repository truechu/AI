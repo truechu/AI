{
  "nbformat": 4,
  "nbformat_minor": 0,
  "metadata": {
    "colab": {
      "provenance": [],
      "authorship_tag": "ABX9TyOV0D/wzdi5rULOrCJCJLFM",
      "include_colab_link": true
    },
    "kernelspec": {
      "name": "python3",
      "display_name": "Python 3"
    },
    "language_info": {
      "name": "python"
    }
  },
  "cells": [
    {
      "cell_type": "markdown",
      "metadata": {
        "id": "view-in-github",
        "colab_type": "text"
      },
      "source": [
        "<a href=\"https://colab.research.google.com/github/truechu/AI/blob/main/HW2/Problem1.ipynb\" target=\"_parent\"><img src=\"https://colab.research.google.com/assets/colab-badge.svg\" alt=\"Open In Colab\"/></a>"
      ]
    },
    {
      "cell_type": "markdown",
      "source": [
        "Chritian Urquhart\n",
        ">CSC 362\n",
        ">>26 Sept 2025\n",
        ">>>Assignment 2 Searchs"
      ],
      "metadata": {
        "id": "lB9bJkNrMgVA"
      }
    },
    {
      "cell_type": "code",
      "execution_count": 5,
      "metadata": {
        "colab": {
          "base_uri": "https://localhost:8080/"
        },
        "id": "W5DaHba5G4T1",
        "outputId": "e4dfc1c6-a4b2-4b05-94e8-bd25dc91bb04"
      },
      "outputs": [
        {
          "output_type": "stream",
          "name": "stdout",
          "text": [
            "['Cara']\n"
          ]
        }
      ],
      "source": [
        "from collections import deque\n",
        "from typing import Dict, Iterable, Set\n",
        "\n",
        "def find_friends_kth_level(G: Dict[str, Iterable[str]], user: str, k: int) -> Set[str]:\n",
        "    \"\"\"\n",
        "    Return the set of users exactly k edges away from `user` using BFS.\n",
        "\n",
        "    \"\"\"\n",
        "    # Guard against missing user or invalid k.\n",
        "    if user not in G or k < 0:\n",
        "        return set()\n",
        "\n",
        "    # Normalize all adjacency lists to sets (fast membership checks).\n",
        "    adj = {u: set(vs) for u, vs in G.items()}\n",
        "\n",
        "    # Standard BFS: queue holds (node, distance_from_user).\n",
        "    q = deque([(user, 0)])\n",
        "    seen = {user}            # Track visited nodes to avoid revisiting.\n",
        "    layer_k = set()          # Collect nodes encountered at distance exactly k.\n",
        "\n",
        "    while q:\n",
        "        u, dist = q.popleft()\n",
        "\n",
        "        # If we popped a node at distance k, record it but don't expand it.\n",
        "        if dist == k:\n",
        "            layer_k.add(u)\n",
        "            continue\n",
        "\n",
        "        # If we somehow pop nodes beyond k (shouldn't happen due to checks), stop exploring deeper.\n",
        "        if dist > k:\n",
        "            break\n",
        "\n",
        "        # Explore all neighbors not yet seen; they will be at distance dist + 1.\n",
        "        for v in adj.get(u, []):\n",
        "            if v not in seen:\n",
        "                seen.add(v)\n",
        "                q.append((v, dist + 1))\n",
        "\n",
        "    # If k==0, the answer should just be {user}; otherwise exclude the start node.\n",
        "    return layer_k if k == 0 else (layer_k - {user})\n",
        "\n",
        "\n",
        "# --- Example matching the prompt image (Bob at level 3 -> Amy, Anna) ---\n",
        "G1 = {\n",
        "    \"Bob\":   {\"Ben\", \"Cara\"},\n",
        "    \"Ben\":   {\"Bob\", \"Drew\"},\n",
        "    \"Cara\":  {\"Bob\", \"Ella\"},\n",
        "    \"Drew\":  {\"Ben\", \"Amy\"},\n",
        "    \"Ella\":  {\"Cara\", \"Anna\"},\n",
        "    \"Amy\":   {\"Drew\"},\n",
        "    \"Anna\":  {\"Ella\"},\n",
        "}\n",
        "print(sorted(find_friends_kth_level(G1, \"Bob\", 3)))  # ['Amy', 'Anna']\n",
        "\n"
      ]
    },
    {
      "cell_type": "markdown",
      "source": [
        "Conclusion:\n",
        ">This code treats the social network as an undirected graph and runs BFS starting at the given user, tracking each node’s distance (level). It collects and returns all nodes found at exactly distance k, using a visited set to avoid cycles. Time complexity is O(V+E) in the explored component."
      ],
      "metadata": {
        "id": "HBAqns7CUPM6"
      }
    }
  ]
}