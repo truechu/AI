{
  "nbformat": 4,
  "nbformat_minor": 0,
  "metadata": {
    "colab": {
      "provenance": [],
      "authorship_tag": "ABX9TyNWWcj9tLL3E2r8TSjDlnw+",
      "include_colab_link": true
    },
    "kernelspec": {
      "name": "python3",
      "display_name": "Python 3"
    },
    "language_info": {
      "name": "python"
    }
  },
  "cells": [
    {
      "cell_type": "markdown",
      "metadata": {
        "id": "view-in-github",
        "colab_type": "text"
      },
      "source": [
        "<a href=\"https://colab.research.google.com/github/truechu/AI/blob/main/HW2/Problem3.ipynb\" target=\"_parent\"><img src=\"https://colab.research.google.com/assets/colab-badge.svg\" alt=\"Open In Colab\"/></a>"
      ]
    },
    {
      "cell_type": "markdown",
      "source": [
        "Chritian Urquhart\n",
        ">CSC 362\n",
        ">>26 Sept 2025\n",
        ">>>Assignment 2 Searchs"
      ],
      "metadata": {
        "id": "KbxRB-SZRLCu"
      }
    },
    {
      "cell_type": "code",
      "execution_count": 3,
      "metadata": {
        "colab": {
          "base_uri": "https://localhost:8080/"
        },
        "id": "e2SKzUpoN1Ww",
        "outputId": "267868b3-d8bb-4832-d3ad-f54a9d7755f5"
      },
      "outputs": [
        {
          "output_type": "stream",
          "name": "stdout",
          "text": [
            "SUCCESS\n",
            "FAILURE\n"
          ]
        }
      ],
      "source": [
        "from typing import Dict, Iterable\n",
        "\n",
        "def dfs_reachability(G: Dict[str, Iterable[str]], start: str, goal: str) -> str:\n",
        "\n",
        "    # If either node is missing, no path exists.\n",
        "    if start not in G or goal not in G:\n",
        "        return \"FAILURE\"\n",
        "\n",
        "    # Normalize adjacency and prepare visited tracking.\n",
        "    adj = {u: set(vs) for u, vs in G.items()}\n",
        "    seen = set()\n",
        "\n",
        "    def dfs(u: str) -> bool:\n",
        "        \"\"\"Recursive DFS: returns True as soon as `goal` is found.\"\"\"\n",
        "        if u == goal:\n",
        "            return True\n",
        "        seen.add(u)\n",
        "        # Explore every unseen neighbor.\n",
        "        for v in adj.get(u, []):\n",
        "            if v not in seen and dfs(v):\n",
        "                return True\n",
        "        return False\n",
        "\n",
        "    return \"SUCCESS\" if dfs(start) else \"FAILURE\"\n",
        "\n",
        "\n",
        "# --- Example graphs consistent with the prompt images ---\n",
        "GA = {\n",
        "    \"A\": {\"B\"},\n",
        "    \"B\": {\"A\", \"C\"},\n",
        "    \"C\": {\"B\", \"D\"},\n",
        "    \"D\": {\"C\"},\n",
        "    \"X\": {\"Y\"},\n",
        "    \"Y\": {\"X\"},\n",
        "}\n",
        "print(dfs_reachability(GA, \"A\", \"D\"))  # \"SUCCESS\" (connected chain A-B-C-D)\n",
        "\n",
        "GB = {\n",
        "    \"A\": {\"B\"},\n",
        "    \"B\": {\"A\"},\n",
        "    \"C\": {\"D\"},\n",
        "    \"D\": {\"C\"},\n",
        "}\n",
        "print(dfs_reachability(GB, \"A\", \"D\"))  # \"FAILURE\" (disconnected components)\n"
      ]
    },
    {
      "cell_type": "markdown",
      "source": [
        "Conclusion:\n",
        ">This algorithm performs a recursive DFS from start and returns SUCCESS as soon as goal is discovered; if DFS finishes without finding it, it returns FAILURE. It uses a visited set to prevent revisiting nodes and works for both generic graphs and maze-style grids. Time complexity is O(V+E) over the searched component."
      ],
      "metadata": {
        "id": "TBioJqksURFy"
      }
    }
  ]
}