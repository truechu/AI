{
  "nbformat": 4,
  "nbformat_minor": 0,
  "metadata": {
    "colab": {
      "provenance": [],
      "authorship_tag": "ABX9TyND6peLpbEyRYRmbAWLxsRA",
      "include_colab_link": true
    },
    "kernelspec": {
      "name": "python3",
      "display_name": "Python 3"
    },
    "language_info": {
      "name": "python"
    }
  },
  "cells": [
    {
      "cell_type": "markdown",
      "metadata": {
        "id": "view-in-github",
        "colab_type": "text"
      },
      "source": [
        "<a href=\"https://colab.research.google.com/github/truechu/AI/blob/main/HW2/Problem2.ipynb\" target=\"_parent\"><img src=\"https://colab.research.google.com/assets/colab-badge.svg\" alt=\"Open In Colab\"/></a>"
      ]
    },
    {
      "cell_type": "markdown",
      "source": [
        "Chritian Urquhart\n",
        ">CSC 362\n",
        ">>26 Sept 2025\n",
        ">>>Assignment 2 Searchs"
      ],
      "metadata": {
        "id": "mWXfLoshQwfo"
      }
    },
    {
      "cell_type": "code",
      "execution_count": 2,
      "metadata": {
        "colab": {
          "base_uri": "https://localhost:8080/"
        },
        "id": "IEhFbjm3Nzq3",
        "outputId": "928c7e26-0b62-4642-b917-4ae311ac667e"
      },
      "outputs": [
        {
          "output_type": "stream",
          "name": "stdout",
          "text": [
            "['David', 'Maya', 'Sophia']\n",
            "['Adam', 'Sophia']\n",
            "['Adam', 'David', 'Maya']\n"
          ]
        }
      ],
      "source": [
        "from collections import deque\n",
        "from typing import Dict, Iterable, Set\n",
        "\n",
        "def potential_friends(G: Dict[str, Iterable[str]], user: str) -> Set[str]:\n",
        "    \"\"\"\n",
        "    Recommend 'potential friends' for `user` as nodes at distance exactly 2 (friend-of-a-friend),\n",
        "    excluding the user and current direct friends.\n",
        "    \"\"\"\n",
        "    if user not in G:\n",
        "        return set()\n",
        "\n",
        "    # Normalize adjacency.\n",
        "    adj = {u: set(vs) for u, vs in G.items()}\n",
        "    direct = adj[user]  # Direct friends of `user`, to exclude later.\n",
        "\n",
        "    # BFS from user, collecting nodes at distance exactly 2.\n",
        "    q = deque([(user, 0)])\n",
        "    seen = {user}\n",
        "    layer2 = set()\n",
        "\n",
        "    while q:\n",
        "        u, dist = q.popleft()\n",
        "\n",
        "        if dist == 2:\n",
        "            # Found a friend-of-a-friend; collect but don't expand.\n",
        "            layer2.add(u)\n",
        "            continue\n",
        "        if dist > 2:\n",
        "            # No need to go deeper than 2 hops.\n",
        "            break\n",
        "\n",
        "        # Explore neighbors to build next layer.\n",
        "        for v in adj.get(u, []):\n",
        "            if v not in seen:\n",
        "                seen.add(v)\n",
        "                q.append((v, dist + 1))\n",
        "\n",
        "    # Remove the user (if somehow present) and any current direct friends.\n",
        "    layer2.discard(user)\n",
        "    layer2 -= direct\n",
        "    return layer2\n",
        "\n",
        "\n",
        "# --- Example for the 'Maria hub' network at time t ---\n",
        "G2_t = {\n",
        "    \"Maria\":  {\"Adam\", \"Sophia\", \"David\", \"Maya\"},\n",
        "    \"Adam\":   {\"Maria\"},\n",
        "    \"Sophia\": {\"Maria\"},\n",
        "    \"David\":  {\"Maria\", \"Maya\"},\n",
        "    \"Maya\":   {\"Maria\", \"David\"},\n",
        "}\n",
        "\n",
        "print(sorted(potential_friends(G2_t, \"Adam\")))   # ['David', 'Maya', 'Sophia']\n",
        "print(sorted(potential_friends(G2_t, \"David\")))  # ['Adam', 'Sophia']\n",
        "print(sorted(potential_friends(G2_t, \"Sophia\"))) # ['Adam', 'David']\n",
        "\n"
      ]
    },
    {
      "cell_type": "markdown",
      "source": [
        "Conclusion:\n",
        ">This function recommends friends-of-friends by running BFS from the user and collecting nodes at distance 2 only. It excludes the user and any current direct friends, so the result is just missing immediate connections. Runs in O(V+E) around the user’s neighborhood."
      ],
      "metadata": {
        "id": "83YwQ-zKUQUT"
      }
    }
  ]
}